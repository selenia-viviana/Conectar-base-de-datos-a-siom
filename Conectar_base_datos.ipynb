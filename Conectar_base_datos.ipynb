{
 "cells": [
  {
   "cell_type": "code",
   "execution_count": 3,
   "id": "9f835eaf",
   "metadata": {},
   "outputs": [
    {
     "name": "stderr",
     "output_type": "stream",
     "text": [
      "C:\\Users\\selen\\anaconda3\\envs\\telefonica\\Lib\\site-packages\\paramiko\\transport.py:219: CryptographyDeprecationWarning: Blowfish has been deprecated\n",
      "  \"class\": algorithms.Blowfish,\n"
     ]
    }
   ],
   "source": [
    "import paramiko\n",
    "\n"
   ]
  },
  {
   "cell_type": "code",
   "execution_count": null,
   "id": "34938004",
   "metadata": {},
   "outputs": [],
   "source": [
    "# Codigo para conectarse a base de datos"
   ]
  },
  {
   "cell_type": "code",
   "execution_count": 5,
   "id": "ce814095",
   "metadata": {},
   "outputs": [
    {
     "name": "stdout",
     "output_type": "stream",
     "text": [
      "MNT_06122023.csv\n",
      "MNT_07122023.csv\n",
      "MNT_08122023.csv\n",
      "MNT_09122023.csv\n",
      "siom2SFTP231210.sql.bz2\n",
      "MNT_10122023.csv\n",
      "siom2SFTP231211.sql.bz2\n",
      "MNT_11122023.csv\n",
      "siom2SFTP231212.sql.bz2\n"
     ]
    }
   ],
   "source": [
    "sftp_host = '182.160.26.40'\n",
    "sftp_port = 22  # default port for SFTP\n",
    "sftp_user = 'siom-pe'\n",
    "sftp_password = 'Cu3nt4.,S10mp3'\n",
    "\n",
    "# Initialize the SSH client\n",
    "ssh_client = paramiko.SSHClient()\n",
    "\n",
    "# Add the server's host key automatically without verification\n",
    "ssh_client.set_missing_host_key_policy(paramiko.AutoAddPolicy())\n",
    "\n",
    "try:\n",
    "    # Connect to the server\n",
    "    ssh_client.connect(sftp_host, port=sftp_port, username=sftp_user, password=sftp_password)\n",
    "    \n",
    "    # Create an SFTP session from the SSH client\n",
    "    sftp = ssh_client.open_sftp()\n",
    "    \n",
    "    # List files in the remote directory\n",
    "    for filename in sftp.listdir('/datadir/ddbb/'):\n",
    "        print(filename)\n",
    "    \n",
    "    # Close the SFTP session\n",
    "    sftp.close()\n",
    "\n",
    "except paramiko.SSHException as e:\n",
    "    print(f\"SSH connection error: {e}\")\n",
    "\n",
    "finally:\n",
    "    # Close the SSH client\n",
    "    ssh_client.close()\n"
   ]
  },
  {
   "cell_type": "code",
   "execution_count": null,
   "id": "f32c69c5",
   "metadata": {},
   "outputs": [],
   "source": [
    "import paramiko\n",
    "import threading\n",
    "from tqdm import tqdm\n",
    "\n",
    "def download_file(sftp_client, remote_path, local_path, file):\n",
    "    try:\n",
    "        file_size = sftp_client.stat(remote_path).st_size\n",
    "        sftp_client.get(remote_path, local_path)\n",
    "        print(f\"{file} downloaded successfully.\")\n",
    "    except Exception as e:\n",
    "        print(f\"Error downloading {file}: {e}\")\n",
    "\n",
    "def connect_sftp():\n",
    "    client = paramiko.SSHClient()\n",
    "    client.set_missing_host_key_policy(paramiko.AutoAddPolicy())\n",
    "    client.connect(hostname, username=username, password=password)\n",
    "    return client.open_sftp()\n",
    "\n",
    "sftp_client = connect_sftp()\n",
    "files_to_decompress = ['siom2SFTP231210.sql.bz2', 'siom2SFTP231211.sql.bz2', 'siom2SFTP231212.sql.bz2']\n",
    "\n",
    "threads = []\n",
    "for file in files_to_decompress:\n",
    "    local_path = r\"C:\\Users\\selen\\OneDrive - Telefonica\\conectar_base_datos_siom/base_datos\\\\\" + file\n",
    "    remote_path = f\"/datadir/ddbb/{file}\"\n",
    "    thread = threading.Thread(target=download_file, args=(sftp_client, remote_path, local_path, file))\n",
    "    thread.start()\n",
    "    threads.append(thread)\n",
    "\n",
    "for t in threads:\n",
    "    t.join()\n",
    "\n",
    "sftp_client.close()\n"
   ]
  }
 ],
 "metadata": {
  "kernelspec": {
   "display_name": "Python 3 (ipykernel)",
   "language": "python",
   "name": "python3"
  },
  "language_info": {
   "codemirror_mode": {
    "name": "ipython",
    "version": 3
   },
   "file_extension": ".py",
   "mimetype": "text/x-python",
   "name": "python",
   "nbconvert_exporter": "python",
   "pygments_lexer": "ipython3",
   "version": "3.11.5"
  }
 },
 "nbformat": 4,
 "nbformat_minor": 5
}
